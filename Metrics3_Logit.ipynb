{
 "cells": [
  {
   "cell_type": "code",
   "execution_count": 18,
   "metadata": {},
   "outputs": [],
   "source": [
    "import pandas as pd\n",
    "import numpy as np\n",
    "import scipy as sc\n",
    "import csv\n",
    "from scipy.optimize import minimize"
   ]
  },
  {
   "cell_type": "code",
   "execution_count": 19,
   "metadata": {},
   "outputs": [],
   "source": [
    "# data preparation\n",
    "data = pd.read_csv('metdata.txt', delim_whitespace = True)\n",
    "data['Rich'] = (data['V9']>9).astype(int)\n",
    "data['NE'] = (data['V8']==1).astype(int)\n",
    "data['NC'] = (data['V8']==2).astype(int)\n",
    "data['S'] = (data['V8']==3).astype(int)\n",
    "data.head()\n",
    "names_used = ['V3', 'V5', 'NE', 'NC', 'S']\n",
    "cnst = True\n",
    "if cnst == True:\n",
    "    names_used.append('cnst')\n",
    "    data['cnst'] = 1    \n",
    "n_cols = len(names_used)\n",
    "N = data.shape[0]"
   ]
  },
  {
   "cell_type": "code",
   "execution_count": 20,
   "metadata": {},
   "outputs": [],
   "source": [
    "def logistic_prob(x):\n",
    "    y = np.exp(x)/(1+np.exp(x))\n",
    "    return y\n",
    "    \n",
    "    \n",
    "def logistic_dens(x):\n",
    "    y = np.exp(x)/(1+np.exp(x))**2\n",
    "    return y\n",
    "\n",
    "def log_like(beta, dt = data, names = names_used,  Y = 'Rich' , test = True):\n",
    "    \n",
    "    assert len(beta) == len(names), 'Dimensions do not match!'\n",
    "\n",
    "    \n",
    "    s = np.dot(dt[names].values, beta) # should be a vector which has scalar product of \n",
    "                                            # betas and Xs for each observation\n",
    "    \n",
    "    ss = logistic_prob(s) # apply logistic distribution to it\n",
    "    \n",
    "    l = (dt[Y].values)*np.log(ss) + (1 - dt[Y].values)*np.log(1-ss) # compute log likelihood\n",
    "    L = np.mean(l)\n",
    "    \n",
    "    if test ==True:\n",
    "        print(s.shape)\n",
    "        print('Likelihood for first observation')\n",
    "        print(l[0])\n",
    "        return\n",
    "     \n",
    "    return L\n",
    "\n",
    "\n",
    "def log_like_for_opt(beta):\n",
    "    \n",
    "    s = np.dot(data[names_used].values, beta) # should be a vector which has scalar product of \n",
    "                                            # betas and Xs for each observation\n",
    "    \n",
    "    ss = logistic_prob(s) # apply logistic distribution to it\n",
    "    \n",
    "    l = (data['Rich'].values)*np.log(ss) + (1 - data['Rich'].values)*np.log(1-ss) # compute log likelihood\n",
    "    L = np.mean(l)\n",
    "\n",
    "    return -L\n",
    "\n",
    "def log_gradient(beta):\n",
    "    \n",
    "    s = np.dot(data[names_used].values, beta)\n",
    "    ss = logistic_prob(s)\n",
    "    sss = (data['Rich'] - ss).values\n",
    "    \n",
    "    g = (sss.reshape((N,1)))*(data[names_used].values)\n",
    "\n",
    "    G = np.mean(g, axis=0)\n",
    "    \n",
    "    return -G\n",
    "\n",
    "def log_hess(beta):\n",
    "        \n",
    "    s = np.dot(data[names_used].values, beta)\n",
    "    ss = logistic_dens(s)\n",
    "    sss = ss.reshape((N,1,1))\n",
    "    X= (data[names_used].values).reshape((N,n_cols,1))\n",
    "    Xt= (data[names_used].values).reshape((N,1,n_cols))\n",
    "    \n",
    "    XX = X*Xt\n",
    "    \n",
    "    h = (sss)*(XX)\n",
    "\n",
    "    H = np.mean(h, axis=0)\n",
    "    \n",
    "    return H\n"
   ]
  },
  {
   "cell_type": "code",
   "execution_count": 21,
   "metadata": {},
   "outputs": [
    {
     "data": {
      "text/plain": [
       "-0.6931471805599453"
      ]
     },
     "execution_count": 21,
     "metadata": {},
     "output_type": "execute_result"
    }
   ],
   "source": [
    "### Question 2\n",
    "log_like([0,0,0,0,0,0], data, names_used , test = False) # should be equal to log(1/2)~ -0.69"
   ]
  },
  {
   "cell_type": "code",
   "execution_count": 22,
   "metadata": {},
   "outputs": [
    {
     "name": "stdout",
     "output_type": "stream",
     "text": [
      "Optimization terminated successfully.\n",
      "         Current function value: 0.363819\n",
      "         Iterations: 35\n",
      "         Function evaluations: 40\n",
      "         Gradient evaluations: 40\n",
      "Coefficients\n",
      "[ 0.53868685  0.03776949  1.14130292  0.74272575 -0.10569418 -9.39251907]\n",
      "Standard Errors\n",
      "[ 1.2346292   0.38821234  8.42948306  8.62888656  9.47520572 23.28843015]\n"
     ]
    }
   ],
   "source": [
    "### Question 3\n",
    "b0 = np.array([0,0,0,0,0,0])\n",
    "out = minimize(log_like_for_opt, b0,jac=log_gradient,  method='BFGS' , options={'disp': True})\n",
    "se = np.sqrt(np.diagonal(out['hess_inv']))\n",
    "print('Coefficients')\n",
    "print(out['x'])\n",
    "print('Standard Errors')\n",
    "print(se)"
   ]
  },
  {
   "cell_type": "code",
   "execution_count": 23,
   "metadata": {},
   "outputs": [
    {
     "name": "stdout",
     "output_type": "stream",
     "text": [
      "Optimization terminated successfully.\n",
      "         Current function value: 0.363819\n",
      "         Iterations: 16\n",
      "         Function evaluations: 22\n",
      "         Gradient evaluations: 37\n",
      "         Hessian evaluations: 16\n",
      "Coefficients\n",
      "[ 0.53868602  0.03776939  1.14131     0.74271554 -0.10569443 -9.39250397]\n",
      "Standard Errors\n",
      "[ 1.26656882  0.41280129  8.85547074  9.0927367   9.94581997 23.88024379]\n"
     ]
    }
   ],
   "source": [
    "### Question 4\n",
    "\n",
    "b0 = np.array([0,0,0,0,0,0])\n",
    "out = minimize(log_like_for_opt, b0,jac=log_gradient, hess= log_hess, method='Newton-CG', \n",
    "               options={'xtol': 1e-6, 'disp': True})\n",
    "\n",
    "print('Coefficients')\n",
    "print(out['x'])\n",
    "print('Standard Errors')\n",
    "print(np.sqrt(np.diag(np.linalg.inv(log_hess(out['x'])))))\n"
   ]
  }
 ],
 "metadata": {
  "kernelspec": {
   "display_name": "Python 3",
   "language": "python",
   "name": "python3"
  },
  "language_info": {
   "codemirror_mode": {
    "name": "ipython",
    "version": 3
   },
   "file_extension": ".py",
   "mimetype": "text/x-python",
   "name": "python",
   "nbconvert_exporter": "python",
   "pygments_lexer": "ipython3",
   "version": "3.7.3"
  }
 },
 "nbformat": 4,
 "nbformat_minor": 2
}
